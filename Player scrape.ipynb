{
 "metadata": {
  "language_info": {
   "codemirror_mode": {
    "name": "ipython",
    "version": 3
   },
   "file_extension": ".py",
   "mimetype": "text/x-python",
   "name": "python",
   "nbconvert_exporter": "python",
   "pygments_lexer": "ipython3",
   "version": "3.7.6"
  },
  "orig_nbformat": 2,
  "kernelspec": {
   "name": "python376jvsc74a57bd044eef4471b3ba7912864af0382c1a3e670c8abed9ecc7ced572b9c281513a332",
   "display_name": "Python 3.7.6 64-bit ('base': conda)"
  },
  "metadata": {
   "interpreter": {
    "hash": "aee8b7b246df8f9039afb4144a1f6fd8d2ca17a180786b69acc140d282b71a49"
   }
  }
 },
 "nbformat": 4,
 "nbformat_minor": 2,
 "cells": [
  {
   "cell_type": "code",
   "execution_count": 176,
   "metadata": {},
   "outputs": [],
   "source": [
    "#! pip install basketball-reference-scraper==v1.0.1"
   ]
  },
  {
   "cell_type": "code",
   "execution_count": 2,
   "metadata": {},
   "outputs": [],
   "source": [
    "#! pip install nba_api"
   ]
  },
  {
   "cell_type": "code",
   "execution_count": 8,
   "metadata": {},
   "outputs": [],
   "source": [
    "from urllib.request import urlopen\n",
    "from bs4 import BeautifulSoup\n",
    "import pandas as pd\n",
    "\n",
    "def scrape_NBA_Player_data(years = [2010,2011,2012,2013,2014,2015,2016,2017,2018,2019,2020,2021]):\n",
    "    for y in years:        \n",
    "        year = y\n",
    "\n",
    "        url = f\"https://www.basketball-reference.com/leagues/NBA_{year}_per_game.html\"\n",
    "\n",
    "        html = urlopen(url)\n",
    "\n",
    "        soup = BeautifulSoup(html, features=\"lxml\")\n",
    "        soup.findAll('tr', limit=2)\n",
    "\n",
    "        titles = [th.getText() for th in soup.findAll('tr', limit=2)[0].findAll('th')]\n",
    "               \n",
    "        headers = titles[1:titles.index(\"PTS\")+1]\n",
    "        \n",
    "        \n",
    "        titles = titles[titles.index(\"PTS\")+1:]\n",
    "\n",
    "\n",
    "        rows = soup.findAll('tr')[1:]\n",
    "        player_stats = [[td.getText() for td in rows[i].findAll('td')]\n",
    "                    for i in range(len(rows))]\n",
    "\n",
    "        for i in range(0, len(player_stats)):\n",
    "            player_stats[i].insert(0, year)\n",
    "\n",
    "        headers.insert(0, \"Year\")\n",
    "      \n",
    "        stats = pd.DataFrame(player_stats, columns = headers)\n",
    "        stats = stats.set_index('Year')\n",
    "\n",
    "\n",
    "        return stats"
   ]
  },
  {
   "cell_type": "code",
   "execution_count": 11,
   "metadata": {},
   "outputs": [],
   "source": [
    "nba_player_stats_2010 = scrape_NBA_Player_data([2010])\n",
    "nba_player_stats_2011 = scrape_NBA_Player_data([2011])\n",
    "nba_player_stats_2012 = scrape_NBA_Player_data([2012])\n",
    "nba_player_stats_2013 = scrape_NBA_Player_data([2013])\n",
    "nba_player_stats_2014 = scrape_NBA_Player_data([2014])\n",
    "nba_player_stats_2015 = scrape_NBA_Player_data([2015])\n",
    "nba_player_stats_2016 = scrape_NBA_Player_data([2016])\n",
    "nba_player_stats_2017 = scrape_NBA_Player_data([2017])\n",
    "nba_player_stats_2018 = scrape_NBA_Player_data([2018])\n",
    "nba_player_stats_2019 = scrape_NBA_Player_data([2019])\n",
    "nba_player_stats_2020 = scrape_NBA_Player_data([2020])\n",
    "nba_player_stats_2021 = scrape_NBA_Player_data([2021])"
   ]
  },
  {
   "cell_type": "code",
   "execution_count": 43,
   "metadata": {},
   "outputs": [],
   "source": [
    "nba_player_df = pd.concat([nba_player_stats_2010,\n",
    "                            nba_player_stats_2011,\n",
    "                            nba_player_stats_2012,\n",
    "                            nba_player_stats_2013,\n",
    "                            nba_player_stats_2014,\n",
    "                            nba_player_stats_2015,\n",
    "                            nba_player_stats_2016,\n",
    "                            nba_player_stats_2017,\n",
    "                            nba_player_stats_2018,\n",
    "                            nba_player_stats_2019,\n",
    "                            nba_player_stats_2020,\n",
    "                            nba_player_stats_2021])"
   ]
  },
  {
   "cell_type": "code",
   "execution_count": 45,
   "metadata": {},
   "outputs": [],
   "source": [
    "nba_player_df['Year'] = nba_player_df.index"
   ]
  },
  {
   "cell_type": "code",
   "execution_count": 46,
   "metadata": {},
   "outputs": [
    {
     "output_type": "execute_result",
     "data": {
      "text/plain": [
       "                 Player Pos Age   Tm   G  GS    MP   FG   FGA   FG%  ...  ORB  \\\n",
       "Year                                                                 ...        \n",
       "2010      Arron Afflalo  SG  24  DEN  82  75  27.1  3.3   7.1  .465  ...  0.7   \n",
       "2010      Alexis Ajinça   C  21  CHA   6   0   5.0  0.8   1.7  .500  ...  0.2   \n",
       "2010  LaMarcus Aldridge  PF  24  POR  78  78  37.5  7.4  15.0  .495  ...  2.5   \n",
       "2010      Joe Alexander  SF  23  CHI   8   0   3.6  0.1   0.8  .167  ...  0.3   \n",
       "2010        Malik Allen  PF  31  DEN  51   3   8.9  0.9   2.3  .397  ...  0.7   \n",
       "...                 ...  ..  ..  ...  ..  ..   ...  ...   ...   ...  ...  ...   \n",
       "2021       Delon Wright  PG  28  SAC  24   5  25.2  3.9   8.1  .479  ...  1.0   \n",
       "2021     Thaddeus Young  PF  32  CHI  65  20  24.1  5.4   9.6  .560  ...  2.4   \n",
       "2021         Trae Young  PG  22  ATL  60  60  34.1  7.8  17.7  .437  ...  0.6   \n",
       "2021        Cody Zeller   C  28  CHO  45  20  20.5  3.8   6.7  .558  ...  2.5   \n",
       "2021        Ivica Zubac   C  23  LAC  69  30  22.8  3.7   5.6  .650  ...  2.7   \n",
       "\n",
       "      DRB  TRB  AST  STL  BLK  TOV   PF   PTS  Year  \n",
       "Year                                                 \n",
       "2010  2.4  3.1  1.7  0.6  0.4  0.9  2.7   8.8  2010  \n",
       "2010  0.5  0.7  0.0  0.2  0.2  0.3  0.8   1.7  2010  \n",
       "2010  5.6  8.0  2.1  0.9  0.6  1.3  3.0  17.9  2010  \n",
       "2010  0.4  0.6  0.3  0.1  0.1  0.0  1.1   0.5  2010  \n",
       "2010  0.9  1.6  0.3  0.2  0.1  0.4  1.3   2.1  2010  \n",
       "...   ...  ...  ...  ...  ...  ...  ...   ...   ...  \n",
       "2021  2.9  3.9  3.5  1.7  0.4  1.3  1.1  10.3  2021  \n",
       "2021  3.7  6.1  4.3  1.1  0.6  2.0  2.3  11.9  2021  \n",
       "2021  3.3  3.9  9.5  0.9  0.2  4.2  1.8  25.6  2021  \n",
       "2021  4.4  6.8  1.8  0.6  0.4  1.0  2.5   9.3  2021  \n",
       "2021  4.7  7.4  1.3  0.3  0.9  1.1  2.6   9.3  2021  \n",
       "\n",
       "[7480 rows x 30 columns]"
      ],
      "text/html": "<div>\n<style scoped>\n    .dataframe tbody tr th:only-of-type {\n        vertical-align: middle;\n    }\n\n    .dataframe tbody tr th {\n        vertical-align: top;\n    }\n\n    .dataframe thead th {\n        text-align: right;\n    }\n</style>\n<table border=\"1\" class=\"dataframe\">\n  <thead>\n    <tr style=\"text-align: right;\">\n      <th></th>\n      <th>Player</th>\n      <th>Pos</th>\n      <th>Age</th>\n      <th>Tm</th>\n      <th>G</th>\n      <th>GS</th>\n      <th>MP</th>\n      <th>FG</th>\n      <th>FGA</th>\n      <th>FG%</th>\n      <th>...</th>\n      <th>ORB</th>\n      <th>DRB</th>\n      <th>TRB</th>\n      <th>AST</th>\n      <th>STL</th>\n      <th>BLK</th>\n      <th>TOV</th>\n      <th>PF</th>\n      <th>PTS</th>\n      <th>Year</th>\n    </tr>\n    <tr>\n      <th>Year</th>\n      <th></th>\n      <th></th>\n      <th></th>\n      <th></th>\n      <th></th>\n      <th></th>\n      <th></th>\n      <th></th>\n      <th></th>\n      <th></th>\n      <th></th>\n      <th></th>\n      <th></th>\n      <th></th>\n      <th></th>\n      <th></th>\n      <th></th>\n      <th></th>\n      <th></th>\n      <th></th>\n      <th></th>\n    </tr>\n  </thead>\n  <tbody>\n    <tr>\n      <th>2010</th>\n      <td>Arron Afflalo</td>\n      <td>SG</td>\n      <td>24</td>\n      <td>DEN</td>\n      <td>82</td>\n      <td>75</td>\n      <td>27.1</td>\n      <td>3.3</td>\n      <td>7.1</td>\n      <td>.465</td>\n      <td>...</td>\n      <td>0.7</td>\n      <td>2.4</td>\n      <td>3.1</td>\n      <td>1.7</td>\n      <td>0.6</td>\n      <td>0.4</td>\n      <td>0.9</td>\n      <td>2.7</td>\n      <td>8.8</td>\n      <td>2010</td>\n    </tr>\n    <tr>\n      <th>2010</th>\n      <td>Alexis Ajinça</td>\n      <td>C</td>\n      <td>21</td>\n      <td>CHA</td>\n      <td>6</td>\n      <td>0</td>\n      <td>5.0</td>\n      <td>0.8</td>\n      <td>1.7</td>\n      <td>.500</td>\n      <td>...</td>\n      <td>0.2</td>\n      <td>0.5</td>\n      <td>0.7</td>\n      <td>0.0</td>\n      <td>0.2</td>\n      <td>0.2</td>\n      <td>0.3</td>\n      <td>0.8</td>\n      <td>1.7</td>\n      <td>2010</td>\n    </tr>\n    <tr>\n      <th>2010</th>\n      <td>LaMarcus Aldridge</td>\n      <td>PF</td>\n      <td>24</td>\n      <td>POR</td>\n      <td>78</td>\n      <td>78</td>\n      <td>37.5</td>\n      <td>7.4</td>\n      <td>15.0</td>\n      <td>.495</td>\n      <td>...</td>\n      <td>2.5</td>\n      <td>5.6</td>\n      <td>8.0</td>\n      <td>2.1</td>\n      <td>0.9</td>\n      <td>0.6</td>\n      <td>1.3</td>\n      <td>3.0</td>\n      <td>17.9</td>\n      <td>2010</td>\n    </tr>\n    <tr>\n      <th>2010</th>\n      <td>Joe Alexander</td>\n      <td>SF</td>\n      <td>23</td>\n      <td>CHI</td>\n      <td>8</td>\n      <td>0</td>\n      <td>3.6</td>\n      <td>0.1</td>\n      <td>0.8</td>\n      <td>.167</td>\n      <td>...</td>\n      <td>0.3</td>\n      <td>0.4</td>\n      <td>0.6</td>\n      <td>0.3</td>\n      <td>0.1</td>\n      <td>0.1</td>\n      <td>0.0</td>\n      <td>1.1</td>\n      <td>0.5</td>\n      <td>2010</td>\n    </tr>\n    <tr>\n      <th>2010</th>\n      <td>Malik Allen</td>\n      <td>PF</td>\n      <td>31</td>\n      <td>DEN</td>\n      <td>51</td>\n      <td>3</td>\n      <td>8.9</td>\n      <td>0.9</td>\n      <td>2.3</td>\n      <td>.397</td>\n      <td>...</td>\n      <td>0.7</td>\n      <td>0.9</td>\n      <td>1.6</td>\n      <td>0.3</td>\n      <td>0.2</td>\n      <td>0.1</td>\n      <td>0.4</td>\n      <td>1.3</td>\n      <td>2.1</td>\n      <td>2010</td>\n    </tr>\n    <tr>\n      <th>...</th>\n      <td>...</td>\n      <td>...</td>\n      <td>...</td>\n      <td>...</td>\n      <td>...</td>\n      <td>...</td>\n      <td>...</td>\n      <td>...</td>\n      <td>...</td>\n      <td>...</td>\n      <td>...</td>\n      <td>...</td>\n      <td>...</td>\n      <td>...</td>\n      <td>...</td>\n      <td>...</td>\n      <td>...</td>\n      <td>...</td>\n      <td>...</td>\n      <td>...</td>\n      <td>...</td>\n    </tr>\n    <tr>\n      <th>2021</th>\n      <td>Delon Wright</td>\n      <td>PG</td>\n      <td>28</td>\n      <td>SAC</td>\n      <td>24</td>\n      <td>5</td>\n      <td>25.2</td>\n      <td>3.9</td>\n      <td>8.1</td>\n      <td>.479</td>\n      <td>...</td>\n      <td>1.0</td>\n      <td>2.9</td>\n      <td>3.9</td>\n      <td>3.5</td>\n      <td>1.7</td>\n      <td>0.4</td>\n      <td>1.3</td>\n      <td>1.1</td>\n      <td>10.3</td>\n      <td>2021</td>\n    </tr>\n    <tr>\n      <th>2021</th>\n      <td>Thaddeus Young</td>\n      <td>PF</td>\n      <td>32</td>\n      <td>CHI</td>\n      <td>65</td>\n      <td>20</td>\n      <td>24.1</td>\n      <td>5.4</td>\n      <td>9.6</td>\n      <td>.560</td>\n      <td>...</td>\n      <td>2.4</td>\n      <td>3.7</td>\n      <td>6.1</td>\n      <td>4.3</td>\n      <td>1.1</td>\n      <td>0.6</td>\n      <td>2.0</td>\n      <td>2.3</td>\n      <td>11.9</td>\n      <td>2021</td>\n    </tr>\n    <tr>\n      <th>2021</th>\n      <td>Trae Young</td>\n      <td>PG</td>\n      <td>22</td>\n      <td>ATL</td>\n      <td>60</td>\n      <td>60</td>\n      <td>34.1</td>\n      <td>7.8</td>\n      <td>17.7</td>\n      <td>.437</td>\n      <td>...</td>\n      <td>0.6</td>\n      <td>3.3</td>\n      <td>3.9</td>\n      <td>9.5</td>\n      <td>0.9</td>\n      <td>0.2</td>\n      <td>4.2</td>\n      <td>1.8</td>\n      <td>25.6</td>\n      <td>2021</td>\n    </tr>\n    <tr>\n      <th>2021</th>\n      <td>Cody Zeller</td>\n      <td>C</td>\n      <td>28</td>\n      <td>CHO</td>\n      <td>45</td>\n      <td>20</td>\n      <td>20.5</td>\n      <td>3.8</td>\n      <td>6.7</td>\n      <td>.558</td>\n      <td>...</td>\n      <td>2.5</td>\n      <td>4.4</td>\n      <td>6.8</td>\n      <td>1.8</td>\n      <td>0.6</td>\n      <td>0.4</td>\n      <td>1.0</td>\n      <td>2.5</td>\n      <td>9.3</td>\n      <td>2021</td>\n    </tr>\n    <tr>\n      <th>2021</th>\n      <td>Ivica Zubac</td>\n      <td>C</td>\n      <td>23</td>\n      <td>LAC</td>\n      <td>69</td>\n      <td>30</td>\n      <td>22.8</td>\n      <td>3.7</td>\n      <td>5.6</td>\n      <td>.650</td>\n      <td>...</td>\n      <td>2.7</td>\n      <td>4.7</td>\n      <td>7.4</td>\n      <td>1.3</td>\n      <td>0.3</td>\n      <td>0.9</td>\n      <td>1.1</td>\n      <td>2.6</td>\n      <td>9.3</td>\n      <td>2021</td>\n    </tr>\n  </tbody>\n</table>\n<p>7480 rows × 30 columns</p>\n</div>"
     },
     "metadata": {},
     "execution_count": 46
    }
   ],
   "source": [
    "nba_player_df = nba_player_df.dropna(axis=0, how='any') "
   ]
  },
  {
   "cell_type": "code",
   "execution_count": 47,
   "metadata": {},
   "outputs": [],
   "source": [
    "nba_player_df.to_csv('NBA_player_stats_2010_2021.csv')"
   ]
  },
  {
   "source": [
    "# Misc stats for 2010-2011 to 2020-2021"
   ],
   "cell_type": "markdown",
   "metadata": {}
  },
  {
   "cell_type": "code",
   "execution_count": 193,
   "metadata": {},
   "outputs": [],
   "source": [
    "misc11 = pd.read_csv('/Users/kalebmckenzie/Documents/GitHub/Basketball Project/misc_team_11.csv')\n",
    "misc11[\"Team\"] = [ele.replace('*', '') for ele in misc11[\"Team\"]]\n",
    "misc11['Year'] = 2011\n",
    "misc11 = misc11.drop(['Unnamed: 0', 'Rk'], axis=1)\n",
    "\n",
    "misc12 = pd.read_csv('/Users/kalebmckenzie/Documents/GitHub/Basketball Project/misc_team_12.csv')\n",
    "misc12[\"Team\"] = [ele.replace('*', '') for ele in misc12[\"Team\"]]\n",
    "misc12['Year'] = 2012\n",
    "misc12 = misc12.drop(['Unnamed: 0', 'Rk'], axis=1)\n",
    "\n",
    "misc13 = pd.read_csv('/Users/kalebmckenzie/Documents/GitHub/Basketball Project/misc_team_13.csv')\n",
    "misc13[\"Team\"] = [ele.replace('*', '') for ele in misc13[\"Team\"]]\n",
    "misc13['Year'] = 2013\n",
    "misc13 = misc13.drop(['Unnamed: 0', 'Rk'], axis=1)\n",
    "\n",
    "misc14 = pd.read_csv('/Users/kalebmckenzie/Documents/GitHub/Basketball Project/misc_team_14.csv')\n",
    "misc14[\"Team\"] = [ele.replace('*', '') for ele in misc14[\"Team\"]]\n",
    "misc14['Year'] = 2014\n",
    "misc14 = misc14.drop(['Unnamed: 0', 'Rk'], axis=1)\n",
    "\n",
    "misc15 = pd.read_csv('/Users/kalebmckenzie/Documents/GitHub/Basketball Project/misc_team_15.csv')\n",
    "misc15[\"Team\"] = [ele.replace('*', '') for ele in misc15[\"Team\"]]\n",
    "misc15['Year'] = 2015\n",
    "misc15 = misc15.drop(['Unnamed: 0', 'Rk'], axis=1)\n",
    "\n",
    "misc16 = pd.read_csv('/Users/kalebmckenzie/Documents/GitHub/Basketball Project/misc_team_16.csv')\n",
    "misc16[\"Team\"] = [ele.replace('*', '') for ele in misc16[\"Team\"]]\n",
    "misc16['Year'] = 2016\n",
    "misc16 = misc16.drop(['Unnamed: 0', 'Rk'], axis=1)\n",
    "\n",
    "misc17 = pd.read_csv('/Users/kalebmckenzie/Documents/GitHub/Basketball Project/misc_team_17.csv')\n",
    "misc17[\"Team\"] = [ele.replace('*', '') for ele in misc17[\"Team\"]]\n",
    "misc17['Year'] = 2017\n",
    "misc17 = misc17.drop(['Unnamed: 0', 'Rk'], axis=1)\n",
    "\n",
    "misc18 = pd.read_csv('/Users/kalebmckenzie/Documents/GitHub/Basketball Project/misc_team_18.csv')\n",
    "misc18[\"Team\"] = [ele.replace('*', '') for ele in misc18[\"Team\"]]\n",
    "misc18['Year'] = 2018\n",
    "misc18 = misc18.drop(['Unnamed: 0', 'Rk'], axis=1)\n",
    "\n",
    "misc19 = pd.read_csv('/Users/kalebmckenzie/Documents/GitHub/Basketball Project/misc_team_19.csv')\n",
    "misc19[\"Team\"] = [ele.replace('*', '') for ele in misc19[\"Team\"]]\n",
    "misc19['Year'] = 2019\n",
    "misc19 = misc19.drop(['Unnamed: 0', 'Rk'], axis=1)\n",
    "\n",
    "misc20 = pd.read_csv('/Users/kalebmckenzie/Documents/GitHub/Basketball Project/misc_team_20.csv')\n",
    "misc20[\"Team\"] = [ele.replace('*', '') for ele in misc20[\"Team\"]]\n",
    "misc20['Year'] = 2020\n",
    "misc20 = misc20.drop(['Unnamed: 0', 'Rk'], axis=1)\n",
    "\n",
    "misc21 = pd.read_csv('/Users/kalebmckenzie/Documents/GitHub/Basketball Project/misc_team_21.csv')\n",
    "misc21[\"Team\"] = [ele.replace('*', '') for ele in misc21[\"Team\"]]\n",
    "misc21['Year'] = 2021\n",
    "misc21 = misc21.drop(['Unnamed: 0', 'Rk'], axis=1)d"
   ]
  },
  {
   "cell_type": "code",
   "execution_count": 195,
   "metadata": {},
   "outputs": [],
   "source": [
    "misc_df = pd.concat([misc11,misc12,misc13,misc14,misc15,misc16,misc17,misc18,misc19,misc20,misc21])\n",
    "\n",
    "switched = misc_df['Year']\n",
    "misc_df.drop(labels=['Year'], axis=1,inplace = True)\n",
    "misc_df.insert(0, 'Year', switched)\n",
    "misc_df = misc_df.loc[misc_df['Team'] != 'League Average']"
   ]
  },
  {
   "source": [
    "# Team stats from 2010-2011 to 2020-2021"
   ],
   "cell_type": "markdown",
   "metadata": {}
  },
  {
   "cell_type": "code",
   "execution_count": 234,
   "metadata": {},
   "outputs": [],
   "source": [
    "df5 = pd.read_csv('/Users/kalebmckenzie/Documents/GitHub/Basketball Project/Team_data_2015_2016.csv')\n",
    "df5[\"Team\"] = [ele.replace('*', '') for ele in df5[\"Team\"]]\n",
    "df5['Year'] = 2016\n",
    "df5 = df5.drop(['Unnamed: 0', 'Rk'], axis=1)\n",
    "\n",
    "df6 = pd.read_csv('/Users/kalebmckenzie/Documents/GitHub/Basketball Project/Team_data_2014_2015.csv')\n",
    "df6[\"Team\"] = [ele.replace('*', '') for ele in df6[\"Team\"]]\n",
    "df6['Year'] = 2015\n",
    "df6 = df6.drop(['Unnamed: 0', 'Rk'], axis=1)\n",
    "\n",
    "df7 = pd.read_csv('/Users/kalebmckenzie/Documents/GitHub/Basketball Project/Team_data_2013_2014.csv')\n",
    "df7[\"Team\"] = [ele.replace('*', '') for ele in df7[\"Team\"]]\n",
    "df7['Year'] = 2014\n",
    "df7 = df7.drop(['Unnamed: 0', 'Rk'], axis=1)\n",
    "\n",
    "df8 = pd.read_csv('/Users/kalebmckenzie/Documents/GitHub/Basketball Project/Team_data_2012_2013.csv')\n",
    "df8[\"Team\"] = [ele.replace('*', '') for ele in df8[\"Team\"]]\n",
    "df8['Year'] = 2013\n",
    "df8 = df8.drop(['Unnamed: 0', 'Rk'], axis=1)\n",
    "\n",
    "df9 = pd.read_csv('/Users/kalebmckenzie/Documents/GitHub/Basketball Project/Team_data_2011_2012.csv')\n",
    "df9[\"Team\"] = [ele.replace('*', '') for ele in df9[\"Team\"]]\n",
    "df9['Year'] = 2012\n",
    "df9 = df9.drop(['Unnamed: 0', 'Rk'], axis=1)\n",
    "\n",
    "dfx = pd.read_csv('/Users/kalebmckenzie/Documents/GitHub/Basketball Project/Team_data_2010_2011.csv')\n",
    "dfx[\"Team\"] = [ele.replace('*', '') for ele in dfx[\"Team\"]]\n",
    "dfx['Year'] = 2011\n",
    "dfx = dfx.drop(['Unnamed: 0', 'Rk'], axis=1)"
   ]
  },
  {
   "cell_type": "code",
   "execution_count": 202,
   "metadata": {},
   "outputs": [],
   "source": [
    "df = pd.read_csv('/Users/kalebmckenzie/Documents/GitHub/Basketball Project/Team_data_2016_2017.csv')\n",
    "df[\"Team\"] = [ele.replace('*', '') for ele in df[\"Team\"]]\n",
    "df['Year'] = 2017\n",
    "df = df.drop(['Unnamed: 0', 'Rk'], axis=1)\n",
    "\n",
    "df1 = pd.read_csv('/Users/kalebmckenzie/Documents/GitHub/Basketball Project/Team_data_2017_2018.csv')\n",
    "df1[\"Team\"] = [ele.replace('*', '') for ele in df1[\"Team\"]]\n",
    "df1['Year'] = 2018\n",
    "df1 = df1.drop(['Unnamed: 0', 'Rk'], axis=1)\n",
    "\n",
    "df2 = pd.read_csv('/Users/kalebmckenzie/Documents/GitHub/Basketball Project/Team_data_2018_2019.csv')\n",
    "df2[\"Team\"] = [ele.replace('*', '') for ele in df2[\"Team\"]]\n",
    "df2['Year'] = 2019\n",
    "df2 = df2.drop(['Unnamed: 0', 'Rk'], axis=1)\n",
    "\n",
    "df3 = pd.read_csv('/Users/kalebmckenzie/Documents/GitHub/Basketball Project/Team_data_2019_2020.csv')\n",
    "df3[\"Team\"] = [ele.replace('*', '') for ele in df3[\"Team\"]]\n",
    "df3['Year'] = 2020\n",
    "df3 = df3.drop(['Unnamed: 0', 'Rk'], axis=1)\n",
    "\n",
    "df4 = pd.read_csv('/Users/kalebmckenzie/Documents/GitHub/Basketball Project/Team_data_2020_2021.csv')\n",
    "df4[\"Team\"] = [ele.replace('*', '') for ele in df4[\"Team\"]]\n",
    "df4['Year'] = 2021\n",
    "df4 = df4.drop(['Unnamed: 0', 'Rk'], axis=1)"
   ]
  },
  {
   "cell_type": "code",
   "execution_count": 235,
   "metadata": {},
   "outputs": [],
   "source": [
    "#The Year col will be denoted as the year end, so 2016-2017 season with be 2017\n",
    "nba_dfs = [df,df1,df2,df3]\n",
    "merged_df = pd.concat([dfx,df9,df8,df7,df6,df5,df,df1,df2,df3,df4])\n",
    "\n",
    "switch = merged_df['Year']\n",
    "merged_df.drop(labels=['Year'], axis=1,inplace = True)\n",
    "merged_df.insert(0, 'Year', switch)\n",
    "merged_df = merged_df.loc[merged_df['Team'] != 'League Average']"
   ]
  },
  {
   "cell_type": "code",
   "execution_count": 212,
   "metadata": {},
   "outputs": [],
   "source": [
    "def scrape_NBA_team_data(years = [2011,2012,2013,2014,2015,2016,2017, 2018, 2019,\n",
    "                              2020,2021]):\n",
    "    \n",
    "    final_df = pd.DataFrame(columns = [\"Year\", \"Team\", \"W\", \"L\",\n",
    "                                       \"W/L%\", \"GB\", \"PS/G\", \"PA/G\",\n",
    "                                       \"SRS\", \"Playoffs\",\n",
    "                                       \"Losing_season\"])\n",
    "    \n",
    "    # loop through each year\n",
    "    for y in years:        # NBA season to scrape\n",
    "        year = y\n",
    "        \n",
    "        # URL to scrape, notice f string:\n",
    "        url = f\"https://www.basketball-reference.com/leagues/NBA_{year}_standings.html\"\n",
    "        \n",
    "        # collect HTML data\n",
    "        html = urlopen(url)\n",
    "        \n",
    "        # create beautiful soup object from HTML\n",
    "        soup = BeautifulSoup(html, features=\"lxml\")\n",
    "        \n",
    "        # use getText()to extract the headers into a list\n",
    "        titles = [th.getText() for th in soup.findAll('tr', limit=2)[0].findAll('th')]\n",
    "        \n",
    "        # first, find only column headers\n",
    "        headers = titles[1:titles.index(\"SRS\")+1]\n",
    "        \n",
    "        # then, exclude first set of column headers (duplicated)\n",
    "        titles = titles[titles.index(\"SRS\")+1:]\n",
    "        \n",
    "        # next, row titles (ex: Boston Celtics, Toronto Raptors)\n",
    "        try:\n",
    "            row_titles = titles[0:titles.index(\"Eastern Conference\")]\n",
    "        except: row_titles = titles\n",
    "        # remove the non-teams from this list\n",
    "        for i in headers:\n",
    "            row_titles.remove(i)\n",
    "        row_titles.remove(\"Western Conference\")\n",
    "        divisions = [\"Atlantic Division\", \"Central Division\",\n",
    "                     \"Southeast Division\", \"Northwest Division\",\n",
    "                     \"Pacific Division\", \"Southwest Division\",\n",
    "                     \"Midwest Division\"]\n",
    "        for d in divisions:\n",
    "            try:\n",
    "                row_titles.remove(d)\n",
    "            except:\n",
    "                print(\"no division:\", d)\n",
    "        \n",
    "        # next, grab all data from rows (avoid first row)\n",
    "        rows = soup.findAll('tr')[1:]\n",
    "        team_stats = [[td.getText() for td in rows[i].findAll('td')]\n",
    "                    for i in range(len(rows))]\n",
    "        # remove empty elements\n",
    "        team_stats = [e for e in team_stats if e != []]\n",
    "        # only keep needed rows\n",
    "        team_stats = team_stats[0:len(row_titles)]\n",
    "        \n",
    "        # add team name to each row in team_stats\n",
    "        for i in range(0, len(team_stats)):\n",
    "            team_stats[i].insert(0, row_titles[i])\n",
    "            team_stats[i].insert(0, year)\n",
    "            \n",
    "        # add team, year columns to headers\n",
    "        headers.insert(0, \"Team\")\n",
    "        headers.insert(0, \"Year\")\n",
    "        \n",
    "        # create a dataframe with all aquired info\n",
    "        year_standings = pd.DataFrame(team_stats, columns = headers)\n",
    "        \n",
    "        # add a column to dataframe to indicate playoff appearance\n",
    "        year_standings[\"Playoffs\"] = [\"Y\" if \"*\" in ele else \"N\" for ele in year_standings[\"Team\"]]\n",
    "        # remove * from team names\n",
    "        year_standings[\"Team\"] = [ele.replace('*', '') for ele in year_standings[\"Team\"]]\n",
    "        # add losing season indicator (win % < .5)\n",
    "        year_standings[\"Losing_season\"] = [\"Y\" if float(ele) < .5 else \"N\" for ele in year_standings[\"W/L%\"]]\n",
    "        \n",
    "        # append new dataframe to final_df\n",
    "        final_df = final_df.append(year_standings)\n",
    "        \n",
    "    # print final_df\n",
    "    print(final_df.info)\n",
    "    # export to csv\n",
    "    final_df.to_csv(\"nba_team_data.csv\", index=False)"
   ]
  },
  {
   "cell_type": "code",
   "execution_count": 214,
   "metadata": {},
   "outputs": [],
   "source": [
    "nba_team = pd.read_csv('/Users/kalebmckenzie/Documents/GitHub/Basketball Project/nba_team_data.csv')"
   ]
  },
  {
   "cell_type": "code",
   "execution_count": 215,
   "metadata": {},
   "outputs": [],
   "source": [
    "nba_team['Team'] = nba_team['Team'].str.replace(r\"\\(.*\\)\",\"\")\n",
    "nba_team['Team'] = nba_team['Team'].str.replace(u'\\xa0','')"
   ]
  },
  {
   "cell_type": "code",
   "execution_count": 237,
   "metadata": {},
   "outputs": [],
   "source": [
    "nba_misc_stats = merged_df.merge(misc_df)"
   ]
  },
  {
   "cell_type": "code",
   "execution_count": 238,
   "metadata": {},
   "outputs": [],
   "source": [
    "nba_complete = nba_misc_stats.merge(nba_team)"
   ]
  },
  {
   "cell_type": "code",
   "execution_count": 243,
   "metadata": {},
   "outputs": [],
   "source": [
    "nba_complete.to_csv('NBA_Stats_2010-11_2020-21.csv')"
   ]
  },
  {
   "cell_type": "code",
   "execution_count": 242,
   "metadata": {},
   "outputs": [],
   "source": [
    "grouped = nba_complete.groupby(['Team'])"
   ]
  },
  {
   "cell_type": "code",
   "execution_count": null,
   "metadata": {},
   "outputs": [],
   "source": [
    "nba = pd.re"
   ]
  },
  {
   "cell_type": "code",
   "execution_count": null,
   "metadata": {},
   "outputs": [],
   "source": [
    "# Misc stats\n",
    "\"\"\"\n",
    "lso view explanations by holding mouse over column headers\n",
    "Rk -- Rank\n",
    "Age -- Player's age on February 1 of the season\n",
    "W -- Wins\n",
    "L -- Losses\n",
    "PW -- Pythagorean wins, i.e., expected wins based on points scored and allowed\n",
    "PL -- Pythagorean losses, i.e., expected losses based on points scored and allowed\n",
    "MOV -- Margin of Victory\n",
    "SOS -- Strength of Schedule; a rating of strength of schedule. The rating is denominated in points above/below average, where zero is average.\n",
    "SRS -- Simple Rating System; a team rating that takes into account average point differential and strength of schedule. The rating is denominated in points above/below average, where zero is average.\n",
    "ORtg -- Offensive Rating\n",
    "An estimate of points produced (players) or scored (teams) per 100 possessions\n",
    "DRtg -- Defensive Rating\n",
    "An estimate of points allowed per 100 possessions\n",
    "NRtg -- Net Rating; an estimate of point differential per 100 possessions.\n",
    "Pace -- Pace Factor: An estimate of possessions per 48 minutes\n",
    "FTr -- Free Throw Attempt Rate\n",
    "Number of FT Attempts Per FG Attempt\n",
    "3PAr -- 3-Point Attempt Rate\n",
    "Percentage of FG Attempts from 3-Point Range\n",
    "TS% -- True Shooting Percentage\n",
    "A measure of shooting efficiency that takes into account 2-point field goals, 3-point field goals, and free throws.\n",
    "Offense Four Factors\n",
    "eFG% -- Effective Field Goal Percentage\n",
    "This statistic adjusts for the fact that a 3-point field goal is worth one more point than a 2-point field goal.\n",
    "TOV% -- Turnover Percentage\n",
    "An estimate of turnovers committed per 100 plays.\n",
    "ORB% -- Offensive Rebound Percentage\n",
    "An estimate of the percentage of available offensive rebounds a player grabbed while they were on the floor.\n",
    "FT/FGA -- Free Throws Per Field Goal Attempt\n",
    "Defense Four Factors\n",
    "eFG% -- Opponent Effective Field Goal Percentage\n",
    "TOV% -- Opponent Turnover Percentage\n",
    "DRB% -- Defensive Rebound Percentage\n",
    "An estimate of the percentage of available defensive rebounds a player grabbed while they were on the floor.\n",
    "FT/FGA -- Opponent Free Throws Per Field Goal Attempt\n",
    "Attend./G -- Attendance per home game at the team's primary arena\n",
    "\"\"\""
   ]
  },
  {
   "cell_type": "code",
   "execution_count": null,
   "metadata": {},
   "outputs": [],
   "source": [
    "# Team stats\n",
    "\"\"\"\n",
    "Also view explanations by holding mouse over column headers\n",
    "Rk -- Rank\n",
    "G -- Games\n",
    "MP -- Minutes Played\n",
    "FG -- Field Goals\n",
    "FGA -- Field Goal Attempts\n",
    "FG% -- Field Goal Percentage\n",
    "3P -- 3-Point Field Goals\n",
    "3PA -- 3-Point Field Goal Attempts\n",
    "3P% -- 3-Point Field Goal Percentage\n",
    "2P -- 2-Point Field Goals\n",
    "2PA -- 2-point Field Goal Attempts\n",
    "2P% -- 2-Point Field Goal Percentage\n",
    "FT -- Free Throws\n",
    "FTA -- Free Throw Attempts\n",
    "FT% -- Free Throw Percentage\n",
    "ORB -- Offensive Rebounds\n",
    "DRB -- Defensive Rebounds\n",
    "TRB -- Total Rebounds\n",
    "AST -- Assists\n",
    "STL -- Steals\n",
    "BLK -- Blocks\n",
    "TOV -- Turnovers\n",
    "PF -- Personal Fouls\n",
    "PTS -- Points\n",
    "\n",
    "\n",
    "\"\"\""
   ]
  },
  {
   "cell_type": "code",
   "execution_count": null,
   "metadata": {},
   "outputs": [],
   "source": [
    "\"\"\"\n",
    "FTA -- Free Throw Attempts\n",
    "3PA -- 3-Point Field Goal Attempts\n",
    "2PA -- 2-point Field Goal Attempts\n",
    "FGA -- Field Goal Attempts\n",
    "ORB% -- Offensive Rebound Percentage\n",
    "DRB% -- Defensive Rebound Percentage\n",
    "ORtg -- Offensive Rating\n",
    "DRtg -- Defensive Rating\n",
    "TOV% -- Opponent Turnover Percentage\n",
    "STL -- Steals\n",
    "BLK -- Blocks\n",
    "\"\"\""
   ]
  }
 ]
}